{
 "cells": [
  {
   "cell_type": "code",
   "execution_count": 1,
   "id": "e5e100b7",
   "metadata": {},
   "outputs": [],
   "source": [
    "import pandas as pd"
   ]
  },
  {
   "cell_type": "code",
   "execution_count": 2,
   "id": "63246514",
   "metadata": {},
   "outputs": [],
   "source": [
    "# chat_id_fr4 = 812807355\n",
    "# token = '1865619460:AAHedVx2QXtRwcFJZ8-ryHvUNPOre5KW5QM'\n",
    "# https://api.telegram.org/bot1865619460:AAHedVx2QXtRwcFJZ8-ryHvUNPOre5KW5QM/sendMessage?chat_id=812807355&text=Priv"
   ]
  },
  {
   "cell_type": "code",
   "execution_count": 3,
   "id": "ef252cb3",
   "metadata": {},
   "outputs": [],
   "source": [
    "import requests\n",
    "def send_telegram(text: str):\n",
    "    token = \"1865619460:AAHedVx2QXtRwcFJZ8-ryHvUNPOre5KW5QM\"\n",
    "    url = \"https://api.telegram.org/bot\"\n",
    "    channel_id = '812807355'\n",
    "    url += token\n",
    "    method = url + \"/sendMessage\"\n",
    "\n",
    "    r = requests.post(method, data={\n",
    "         \"chat_id\": channel_id,\n",
    "         \"text\": text\n",
    "          })\n",
    "\n",
    "    if r.status_code != 200:\n",
    "        raise Exception(\"post_text error\")\n",
    "\n",
    "if __name__ == '__main__':\n",
    "    send_telegram(\"Видимо еще работает)\")"
   ]
  },
  {
   "cell_type": "code",
   "execution_count": null,
   "id": "6c504a9f",
   "metadata": {},
   "outputs": [],
   "source": []
  }
 ],
 "metadata": {
  "kernelspec": {
   "display_name": "Python 3",
   "language": "python",
   "name": "python3"
  },
  "language_info": {
   "codemirror_mode": {
    "name": "ipython",
    "version": 3
   },
   "file_extension": ".py",
   "mimetype": "text/x-python",
   "name": "python",
   "nbconvert_exporter": "python",
   "pygments_lexer": "ipython3",
   "version": "3.8.8"
  }
 },
 "nbformat": 4,
 "nbformat_minor": 5
}
